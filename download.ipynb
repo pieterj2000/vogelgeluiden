{
 "cells": [
  {
   "cell_type": "code",
   "execution_count": 1,
   "metadata": {},
   "outputs": [],
   "source": [
    "from ratelimit import limits, sleep_and_retry\n",
    "\n",
    "@sleep_and_retry\n",
    "@limits(calls=1, period=1)\n",
    "def ratelimit():\n",
    "    return\n"
   ]
  },
  {
   "cell_type": "code",
   "execution_count": 2,
   "metadata": {},
   "outputs": [],
   "source": [
    "import requests\n",
    "import json\n",
    "from pydub import AudioSegment"
   ]
  },
  {
   "cell_type": "code",
   "execution_count": 3,
   "metadata": {},
   "outputs": [],
   "source": [
    "def api_request(query):\n",
    "    ratelimit()\n",
    "    r = requests.get(f\"https://xeno-canto.org/api/2/recordings?query={query}\")\n",
    "    return r.json()\n",
    "\n",
    "\n",
    "def get_recordings(query):\n",
    "    recordings = []\n",
    "    r = api_request(query)\n",
    "    numpages = r[\"numPages\"]\n",
    "    for i in range(1,numpages+1):\n",
    "        if i > 1:\n",
    "            r = api_request(query + f\"&page={i}\")\n",
    "        recordings += r[\"recordings\"]\n",
    "    return recordings\n",
    "        \n",
    "def download_recording(recording, folder):\n",
    "    with open(f\"{folder}/{recording[\"id\"]}.json\", \"wt\") as f:\n",
    "        json.dump(recording,f, indent=2)\n",
    "\n",
    "    ratelimit()\n",
    "    r = requests.get(recording[\"file\"])\n",
    "    with open(f\"{folder}/{recording[\"id\"]}.wav\", \"wb\") as f:\n",
    "        f.write(r.content)\n",
    "\n",
    "    filetype = recording[\"file-name\"].strip()\n",
    "    if not filetype.endswith(\".wav\"):\n",
    "        sound = AudioSegment.from_file(f\"{folder}/{recording[\"id\"]}.wav\")\n",
    "        sound.export(f\"{folder}/{recording[\"id\"]}.wav\", format=\"wav\")\n",
    "        \n",
    "def download_recordings(recordings, folder):\n",
    "    for r in recordings:\n",
    "        download_recording(r, folder)\n"
   ]
  },
  {
   "cell_type": "code",
   "execution_count": 4,
   "metadata": {},
   "outputs": [],
   "source": [
    "\n",
    "recordings = get_recordings(\"great tit q:A\")"
   ]
  },
  {
   "cell_type": "code",
   "execution_count": 5,
   "metadata": {},
   "outputs": [],
   "source": [
    "len(recordings)\n",
    "\n",
    "download_recordings(recordings, \"data/downloaded\")\n"
   ]
  }
 ],
 "metadata": {
  "kernelspec": {
   "display_name": "vogelgeluiden",
   "language": "python",
   "name": "python3"
  },
  "language_info": {
   "codemirror_mode": {
    "name": "ipython",
    "version": 3
   },
   "file_extension": ".py",
   "mimetype": "text/x-python",
   "name": "python",
   "nbconvert_exporter": "python",
   "pygments_lexer": "ipython3",
   "version": "3.13.2"
  }
 },
 "nbformat": 4,
 "nbformat_minor": 2
}
